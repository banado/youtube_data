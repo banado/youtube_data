{
 "cells": [
  {
   "cell_type": "code",
   "execution_count": 9,
   "metadata": {},
   "outputs": [],
   "source": [
    "from youtube_api import YoutubeDataApi\n",
    "import pandas as pd\n",
    "from nltk.tokenize import word_tokenize, sent_tokenize\n",
    "import re\n",
    "from nltk.corpus import stopwords\n",
    "import nltk\n",
    "api_key='",
    "yt=YoutubeDataApi(api_key)\n"
   ]
  },
  {
   "cell_type": "code",
   "execution_count": 2,
   "metadata": {},
   "outputs": [],
   "source": [
    "comments=yt.get_video_comments('CnhkPaSR2dg')"
   ]
  },
  {
   "cell_type": "code",
   "execution_count": 3,
   "metadata": {},
   "outputs": [],
   "source": [
    "comments_text=[]\n",
    "for i in comments:\n",
    "    comments_text.append(i['text'])\n",
    "df=pd.DataFrame(comments_text)\n",
    "df.rename(columns={0:'Comments Text'},inplace=True)\n",
    "dictframe=dict()\n",
    "for i in range(len(df['Comments Text'])):    \n",
    "    letters_only=re.sub('[^a-zA-Z]', ' ', df['Comments Text'][i]).lower().split()\n",
    "    useful_words=[w for w in letters_only if not w in stopwords.words('english') ]\n",
    "    dictframe[i]=useful_words\n",
    "    \n",
    "    \n",
    "all_words=[]\n",
    "for i in range(len(dictframe)):\n",
    "    for k in dictframe[i]:\n",
    "        all_words.append(k)\n",
    "    \n",
    "common_words=nltk.FreqDist(all_words)\n",
    "common_words.most_common()"
   ]
  },
  {
   "cell_type": "code",
   "execution_count": 30,
   "metadata": {},
   "outputs": [
    {
     "data": {
      "text/plain": [
       "FreqDist({'jbl': 266, 'lg': 172, 'better': 93, 'charge': 91, 'bass': 86, 'sound': 76, 'speaker': 61, 'sounds': 57, 'like': 50, 'speakers': 49, ...})"
      ]
     },
     "execution_count": 30,
     "metadata": {},
     "output_type": "execute_result"
    }
   ],
   "source": [
    "common_words"
   ]
  },
  {
   "cell_type": "code",
   "execution_count": 29,
   "metadata": {},
   "outputs": [
    {
     "data": {
      "text/plain": [
       "[('jbl', 266),\n",
       " ('lg', 172),\n",
       " ('better', 93),\n",
       " ('charge', 91),\n",
       " ('bass', 86),\n",
       " ('sound', 76),\n",
       " ('speaker', 61),\n",
       " ('sounds', 57),\n",
       " ('like', 50),\n",
       " ('speakers', 49),\n",
       " ('one', 41),\n",
       " ('review', 41),\n",
       " ('good', 38),\n",
       " ('pk', 36),\n",
       " ('sony', 35)]"
      ]
     },
     "execution_count": 29,
     "metadata": {},
     "output_type": "execute_result"
    }
   ],
   "source": []
  },
  {
   "cell_type": "code",
   "execution_count": null,
   "metadata": {},
   "outputs": [],
   "source": []
  }
 ],
 "metadata": {
  "kernelspec": {
   "display_name": "Python 3",
   "language": "python",
   "name": "python3"
  },
  "language_info": {
   "codemirror_mode": {
    "name": "ipython",
    "version": 3
   },
   "file_extension": ".py",
   "mimetype": "text/x-python",
   "name": "python",
   "nbconvert_exporter": "python",
   "pygments_lexer": "ipython3",
   "version": "3.7.3"
  }
 },
 "nbformat": 4,
 "nbformat_minor": 2
}
